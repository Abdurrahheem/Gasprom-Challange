{
  "nbformat": 4,
  "nbformat_minor": 0,
  "metadata": {
    "kernelspec": {
      "display_name": "Python 3",
      "language": "python",
      "name": "python3"
    },
    "varInspector": {
      "cols": {
        "lenName": 16,
        "lenType": 16,
        "lenVar": 40
      },
      "kernels_config": {
        "python": {
          "delete_cmd_postfix": "",
          "delete_cmd_prefix": "del ",
          "library": "var_list.py",
          "varRefreshCmd": "print(var_dic_list())"
        },
        "r": {
          "delete_cmd_postfix": ") ",
          "delete_cmd_prefix": "rm(",
          "library": "var_list.r",
          "varRefreshCmd": "cat(var_dic_list()) "
        }
      },
      "types_to_exclude": [
        "module",
        "function",
        "builtin_function_or_method",
        "instance",
        "_Feature"
      ],
      "window_display": false
    },
    "colab": {
      "name": "UnetSegmentation.ipynb",
      "provenance": [],
      "collapsed_sections": []
    },
    "accelerator": "GPU",
    "widgets": {
      "application/vnd.jupyter.widget-state+json": {
        "52e94574f381428ea9e900fed2f3f4a5": {
          "model_module": "@jupyter-widgets/controls",
          "model_name": "HBoxModel",
          "state": {
            "_view_name": "HBoxView",
            "_dom_classes": [],
            "_model_name": "HBoxModel",
            "_view_module": "@jupyter-widgets/controls",
            "_model_module_version": "1.5.0",
            "_view_count": null,
            "_view_module_version": "1.5.0",
            "box_style": "",
            "layout": "IPY_MODEL_85b72d60c46840f2b6e7fe41d9aa8cb1",
            "_model_module": "@jupyter-widgets/controls",
            "children": [
              "IPY_MODEL_83de1250d13f455f8b270315372524e9",
              "IPY_MODEL_6d41ed40524b49ea8a401979889b937c"
            ]
          }
        },
        "85b72d60c46840f2b6e7fe41d9aa8cb1": {
          "model_module": "@jupyter-widgets/base",
          "model_name": "LayoutModel",
          "state": {
            "_view_name": "LayoutView",
            "grid_template_rows": null,
            "right": null,
            "justify_content": null,
            "_view_module": "@jupyter-widgets/base",
            "overflow": null,
            "_model_module_version": "1.2.0",
            "_view_count": null,
            "flex_flow": null,
            "width": null,
            "min_width": null,
            "border": null,
            "align_items": null,
            "bottom": null,
            "_model_module": "@jupyter-widgets/base",
            "top": null,
            "grid_column": null,
            "overflow_y": null,
            "overflow_x": null,
            "grid_auto_flow": null,
            "grid_area": null,
            "grid_template_columns": null,
            "flex": null,
            "_model_name": "LayoutModel",
            "justify_items": null,
            "grid_row": null,
            "max_height": null,
            "align_content": null,
            "visibility": null,
            "align_self": null,
            "height": null,
            "min_height": null,
            "padding": null,
            "grid_auto_rows": null,
            "grid_gap": null,
            "max_width": null,
            "order": null,
            "_view_module_version": "1.2.0",
            "grid_template_areas": null,
            "object_position": null,
            "object_fit": null,
            "grid_auto_columns": null,
            "margin": null,
            "display": null,
            "left": null
          }
        },
        "83de1250d13f455f8b270315372524e9": {
          "model_module": "@jupyter-widgets/controls",
          "model_name": "FloatProgressModel",
          "state": {
            "_view_name": "ProgressView",
            "style": "IPY_MODEL_45c632e791854873a1c27486b1cea71d",
            "_dom_classes": [],
            "description": "100%",
            "_model_name": "FloatProgressModel",
            "bar_style": "success",
            "max": 87306240,
            "_view_module": "@jupyter-widgets/controls",
            "_model_module_version": "1.5.0",
            "value": 87306240,
            "_view_count": null,
            "_view_module_version": "1.5.0",
            "orientation": "horizontal",
            "min": 0,
            "description_tooltip": null,
            "_model_module": "@jupyter-widgets/controls",
            "layout": "IPY_MODEL_d637fb7deb7e4114a65640da725bd193"
          }
        },
        "6d41ed40524b49ea8a401979889b937c": {
          "model_module": "@jupyter-widgets/controls",
          "model_name": "HTMLModel",
          "state": {
            "_view_name": "HTMLView",
            "style": "IPY_MODEL_c5de6ed9ab32441eb6fdb3bce1f812dd",
            "_dom_classes": [],
            "description": "",
            "_model_name": "HTMLModel",
            "placeholder": "​",
            "_view_module": "@jupyter-widgets/controls",
            "_model_module_version": "1.5.0",
            "value": " 83.3M/83.3M [00:46&lt;00:00, 1.88MB/s]",
            "_view_count": null,
            "_view_module_version": "1.5.0",
            "description_tooltip": null,
            "_model_module": "@jupyter-widgets/controls",
            "layout": "IPY_MODEL_8b63c205887c4608b8bb106ec0639d9f"
          }
        },
        "45c632e791854873a1c27486b1cea71d": {
          "model_module": "@jupyter-widgets/controls",
          "model_name": "ProgressStyleModel",
          "state": {
            "_view_name": "StyleView",
            "_model_name": "ProgressStyleModel",
            "description_width": "initial",
            "_view_module": "@jupyter-widgets/base",
            "_model_module_version": "1.5.0",
            "_view_count": null,
            "_view_module_version": "1.2.0",
            "bar_color": null,
            "_model_module": "@jupyter-widgets/controls"
          }
        },
        "d637fb7deb7e4114a65640da725bd193": {
          "model_module": "@jupyter-widgets/base",
          "model_name": "LayoutModel",
          "state": {
            "_view_name": "LayoutView",
            "grid_template_rows": null,
            "right": null,
            "justify_content": null,
            "_view_module": "@jupyter-widgets/base",
            "overflow": null,
            "_model_module_version": "1.2.0",
            "_view_count": null,
            "flex_flow": null,
            "width": null,
            "min_width": null,
            "border": null,
            "align_items": null,
            "bottom": null,
            "_model_module": "@jupyter-widgets/base",
            "top": null,
            "grid_column": null,
            "overflow_y": null,
            "overflow_x": null,
            "grid_auto_flow": null,
            "grid_area": null,
            "grid_template_columns": null,
            "flex": null,
            "_model_name": "LayoutModel",
            "justify_items": null,
            "grid_row": null,
            "max_height": null,
            "align_content": null,
            "visibility": null,
            "align_self": null,
            "height": null,
            "min_height": null,
            "padding": null,
            "grid_auto_rows": null,
            "grid_gap": null,
            "max_width": null,
            "order": null,
            "_view_module_version": "1.2.0",
            "grid_template_areas": null,
            "object_position": null,
            "object_fit": null,
            "grid_auto_columns": null,
            "margin": null,
            "display": null,
            "left": null
          }
        },
        "c5de6ed9ab32441eb6fdb3bce1f812dd": {
          "model_module": "@jupyter-widgets/controls",
          "model_name": "DescriptionStyleModel",
          "state": {
            "_view_name": "StyleView",
            "_model_name": "DescriptionStyleModel",
            "description_width": "",
            "_view_module": "@jupyter-widgets/base",
            "_model_module_version": "1.5.0",
            "_view_count": null,
            "_view_module_version": "1.2.0",
            "_model_module": "@jupyter-widgets/controls"
          }
        },
        "8b63c205887c4608b8bb106ec0639d9f": {
          "model_module": "@jupyter-widgets/base",
          "model_name": "LayoutModel",
          "state": {
            "_view_name": "LayoutView",
            "grid_template_rows": null,
            "right": null,
            "justify_content": null,
            "_view_module": "@jupyter-widgets/base",
            "overflow": null,
            "_model_module_version": "1.2.0",
            "_view_count": null,
            "flex_flow": null,
            "width": null,
            "min_width": null,
            "border": null,
            "align_items": null,
            "bottom": null,
            "_model_module": "@jupyter-widgets/base",
            "top": null,
            "grid_column": null,
            "overflow_y": null,
            "overflow_x": null,
            "grid_auto_flow": null,
            "grid_area": null,
            "grid_template_columns": null,
            "flex": null,
            "_model_name": "LayoutModel",
            "justify_items": null,
            "grid_row": null,
            "max_height": null,
            "align_content": null,
            "visibility": null,
            "align_self": null,
            "height": null,
            "min_height": null,
            "padding": null,
            "grid_auto_rows": null,
            "grid_gap": null,
            "max_width": null,
            "order": null,
            "_view_module_version": "1.2.0",
            "grid_template_areas": null,
            "object_position": null,
            "object_fit": null,
            "grid_auto_columns": null,
            "margin": null,
            "display": null,
            "left": null
          }
        }
      }
    }
  },
  "cells": [
    {
      "cell_type": "code",
      "metadata": {
        "id": "uCZp8fTflXFC",
        "outputId": "a40df357-4159-40db-e595-1f44c7c1102c",
        "colab": {
          "base_uri": "https://localhost:8080/",
          "height": 34
        }
      },
      "source": [
        "from google.colab import drive\n",
        "drive.mount('/content/drive')"
      ],
      "execution_count": 3,
      "outputs": [
        {
          "output_type": "stream",
          "text": [
            "Mounted at /content/drive\n"
          ],
          "name": "stdout"
        }
      ]
    },
    {
      "cell_type": "code",
      "metadata": {
        "id": "q089bYXulw-S",
        "outputId": "7d4667d8-0df3-45ad-f265-3866eb169a9f",
        "colab": {
          "base_uri": "https://localhost:8080/",
          "height": 548
        }
      },
      "source": [
        "# !pip install albumentations\n",
        "!pip install segmentation-models-pytorch"
      ],
      "execution_count": 4,
      "outputs": [
        {
          "output_type": "stream",
          "text": [
            "Collecting segmentation-models-pytorch\n",
            "\u001b[?25l  Downloading https://files.pythonhosted.org/packages/03/36/37b6b0e54a98ff15eb36ce36c9181fdb627b3e789e23fc764f9e5f01dc68/segmentation_models_pytorch-0.1.2-py3-none-any.whl (53kB)\n",
            "\u001b[K     |████████████████████████████████| 61kB 2.0MB/s \n",
            "\u001b[?25hCollecting timm==0.1.20\n",
            "\u001b[?25l  Downloading https://files.pythonhosted.org/packages/89/26/ba294669cc5cc4d09efd1964c8df752dc0955ac26f86bdeec582aed77d1d/timm-0.1.20-py3-none-any.whl (161kB)\n",
            "\u001b[K     |████████████████████████████████| 163kB 7.3MB/s \n",
            "\u001b[?25hCollecting pretrainedmodels==0.7.4\n",
            "\u001b[?25l  Downloading https://files.pythonhosted.org/packages/84/0e/be6a0e58447ac16c938799d49bfb5fb7a80ac35e137547fc6cee2c08c4cf/pretrainedmodels-0.7.4.tar.gz (58kB)\n",
            "\u001b[K     |████████████████████████████████| 61kB 9.5MB/s \n",
            "\u001b[?25hCollecting efficientnet-pytorch==0.6.3\n",
            "  Downloading https://files.pythonhosted.org/packages/b8/cb/0309a6e3d404862ae4bc017f89645cf150ac94c14c88ef81d215c8e52925/efficientnet_pytorch-0.6.3.tar.gz\n",
            "Requirement already satisfied: torchvision>=0.3.0 in /usr/local/lib/python3.6/dist-packages (from segmentation-models-pytorch) (0.7.0+cu101)\n",
            "Requirement already satisfied: torch>=1.0 in /usr/local/lib/python3.6/dist-packages (from timm==0.1.20->segmentation-models-pytorch) (1.6.0+cu101)\n",
            "Collecting munch\n",
            "  Downloading https://files.pythonhosted.org/packages/cc/ab/85d8da5c9a45e072301beb37ad7f833cd344e04c817d97e0cc75681d248f/munch-2.5.0-py2.py3-none-any.whl\n",
            "Requirement already satisfied: tqdm in /usr/local/lib/python3.6/dist-packages (from pretrainedmodels==0.7.4->segmentation-models-pytorch) (4.41.1)\n",
            "Requirement already satisfied: pillow>=4.1.1 in /usr/local/lib/python3.6/dist-packages (from torchvision>=0.3.0->segmentation-models-pytorch) (7.0.0)\n",
            "Requirement already satisfied: numpy in /usr/local/lib/python3.6/dist-packages (from torchvision>=0.3.0->segmentation-models-pytorch) (1.18.5)\n",
            "Requirement already satisfied: future in /usr/local/lib/python3.6/dist-packages (from torch>=1.0->timm==0.1.20->segmentation-models-pytorch) (0.16.0)\n",
            "Requirement already satisfied: six in /usr/local/lib/python3.6/dist-packages (from munch->pretrainedmodels==0.7.4->segmentation-models-pytorch) (1.15.0)\n",
            "Building wheels for collected packages: pretrainedmodels, efficientnet-pytorch\n",
            "  Building wheel for pretrainedmodels (setup.py) ... \u001b[?25l\u001b[?25hdone\n",
            "  Created wheel for pretrainedmodels: filename=pretrainedmodels-0.7.4-cp36-none-any.whl size=60964 sha256=4d43522d7da3ee07928d5b3a4fe266755f9f988362f4698056fd81336db78070\n",
            "  Stored in directory: /root/.cache/pip/wheels/69/df/63/62583c096289713f22db605aa2334de5b591d59861a02c2ecd\n",
            "  Building wheel for efficientnet-pytorch (setup.py) ... \u001b[?25l\u001b[?25hdone\n",
            "  Created wheel for efficientnet-pytorch: filename=efficientnet_pytorch-0.6.3-cp36-none-any.whl size=12421 sha256=1ecb8c802120b199c5ee11e9014107ddcbdab1f41a4f3cf1a32654857a9ad9cf\n",
            "  Stored in directory: /root/.cache/pip/wheels/42/1e/a9/2a578ba9ad04e776e80bf0f70d8a7f4c29ec0718b92d8f6ccd\n",
            "Successfully built pretrainedmodels efficientnet-pytorch\n",
            "Installing collected packages: timm, munch, pretrainedmodels, efficientnet-pytorch, segmentation-models-pytorch\n",
            "Successfully installed efficientnet-pytorch-0.6.3 munch-2.5.0 pretrainedmodels-0.7.4 segmentation-models-pytorch-0.1.2 timm-0.1.20\n"
          ],
          "name": "stdout"
        }
      ]
    },
    {
      "cell_type": "code",
      "metadata": {
        "id": "X6by9_l-nQ8_",
        "outputId": "69fcbb9a-8f03-4bf6-ee24-90f9f131fc2e",
        "colab": {
          "base_uri": "https://localhost:8080/",
          "height": 34
        }
      },
      "source": [
        "%cd /content/drive/My Drive/Colab Notebooks/Gasprom-Challange/notebooks"
      ],
      "execution_count": 72,
      "outputs": [
        {
          "output_type": "stream",
          "text": [
            "/content/drive/My Drive/Colab Notebooks/Gasprom-Challange/notebooks\n"
          ],
          "name": "stdout"
        }
      ]
    },
    {
      "cell_type": "code",
      "metadata": {
        "id": "eYwOkSpJjf26"
      },
      "source": [
        "import torch\n",
        "import numpy as np\n",
        "import torch.nn as nn\n",
        "import torchvision.transforms as transforms\n",
        "import torchvision.models as models\n",
        "import segmentation_models_pytorch as smp\n",
        "import matplotlib.pyplot as plt \n",
        "import albumentations as albu\n",
        "\n",
        "from torch.utils.data import DataLoader, Dataset as BaseDataset\n",
        "from pathlib import Path"
      ],
      "execution_count": 6,
      "outputs": []
    },
    {
      "cell_type": "code",
      "metadata": {
        "id": "CsXr0h9wjf3B"
      },
      "source": [
        "np.random.seed(0)\n",
        "\n",
        "# load the data\n",
        "datapath = Path.cwd().parent / 'data'\n",
        "data_train = np.load(datapath/'data_train.npz', allow_pickle=True, mmap_mode='r')\n",
        "data_train = data_train['data']\n",
        "\n",
        "labels_train = np.load(datapath/'labels_train.npz', allow_pickle=True, mmap_mode='r')\n",
        "labels_train = labels_train['labels']\n",
        "\n",
        "\n",
        "# seperate data into train and test sets\n",
        "test_idx = np.random.randint(low=0, high=data_train.shape[-1], size=int(data_train.shape[-1] * .15))\n",
        "train_idx = list(set(range(data_train.shape[-1])) - set(test_idx))\n",
        "\n",
        "data_test = data_train[...,test_idx]\n",
        "data_train = data_train[...,train_idx]\n",
        "\n",
        "labels_test = labels_train[...,test_idx]\n",
        "labels_train = labels_train[...,train_idx]"
      ],
      "execution_count": 7,
      "outputs": []
    },
    {
      "cell_type": "code",
      "metadata": {
        "id": "P7xYo986jf3G"
      },
      "source": [
        "def transformations(image, mask):\n",
        "  image_trans = transforms.Compose([transforms.ToPILImage(),\n",
        "                                    transforms.Resize((224,224)),\n",
        "                                    # transforms.Resize((512,400)),\n",
        "                                    transforms.ToTensor()])\n",
        " \n",
        "  return image_trans(image), image_trans(mask)"
      ],
      "execution_count": 8,
      "outputs": []
    },
    {
      "cell_type": "code",
      "metadata": {
        "id": "RalUOsOEjf3L"
      },
      "source": [
        "def get_training_augmentation():\n",
        "    train_transform = [\n",
        "                        albu.Resize(1024,800),\n",
        "#                        albu.Resize(224,224),\n",
        "#                        albu.HorizontalFlip(p=1)\n",
        "                       albu.pytorch.transforms.ToTensor()\n",
        "                      ]\n",
        "    return albu.Compose(train_transform)\n"
      ],
      "execution_count": 9,
      "outputs": []
    },
    {
      "cell_type": "code",
      "metadata": {
        "id": "xOET3Y9yjf3N"
      },
      "source": [
        "class Dataset(BaseDataset):\n",
        "    def __init__(\n",
        "            self, \n",
        "            data, \n",
        "            masks, \n",
        "            augmentation=None, \n",
        "    ):\n",
        "        self.data = data\n",
        "        self.masks = masks\n",
        "        \n",
        "        # get the class values\n",
        "        self.class_values = list(range(6))\n",
        "        self.augmentation = augmentation\n",
        "    \n",
        "    def __getitem__(self, i):\n",
        "        # read data\n",
        "        image = self.data[:,:,i]\n",
        "        mask = self.masks[:,:,i] - 1 # to shift class labes from 1, 2, ... 6 to 0, 1, ... 5\n",
        "            \n",
        "        if self.augmentation:\n",
        "            image, mask = self.augmentation(image=image, mask=mask.astype(np.float32))\n",
        "            \n",
        "        # extract certain classes from mask (e.g. cars)\n",
        "        masks = [(mask == v) for v in self.class_values]\n",
        "#         mask = np.stack(masks, axis=-1)\n",
        "        mask = torch.cat(masks, axis=0)\n",
        "        return image, mask\n",
        "      \n",
        "    def __len__(self):\n",
        "        return self.data.shape[-1]\n"
      ],
      "execution_count": 11,
      "outputs": []
    },
    {
      "cell_type": "code",
      "metadata": {
        "id": "6IHfrx0Jjf3P"
      },
      "source": [
        "train_dataset = Dataset(data=data_train, masks=labels_train, augmentation=transformations)\n",
        "train_loader = DataLoader(train_dataset, batch_size=5, shuffle=True,)\n",
        "\n",
        "test_dataset = Dataset(data=data_test, masks=labels_test, augmentation=transformations)\n",
        "valid_loader = DataLoader(test_dataset, batch_size=5)"
      ],
      "execution_count": 12,
      "outputs": []
    },
    {
      "cell_type": "code",
      "metadata": {
        "id": "8WEeH0Asjf3R",
        "outputId": "a36bd7a6-c075-4bd1-93b0-5f32b423836b",
        "colab": {
          "base_uri": "https://localhost:8080/",
          "height": 83,
          "referenced_widgets": [
            "52e94574f381428ea9e900fed2f3f4a5",
            "85b72d60c46840f2b6e7fe41d9aa8cb1",
            "83de1250d13f455f8b270315372524e9",
            "6d41ed40524b49ea8a401979889b937c",
            "45c632e791854873a1c27486b1cea71d",
            "d637fb7deb7e4114a65640da725bd193",
            "c5de6ed9ab32441eb6fdb3bce1f812dd",
            "8b63c205887c4608b8bb106ec0639d9f"
          ]
        }
      },
      "source": [
        "model = smp.Unet(in_channels=1, classes=6, activation='softmax')\n",
        "\n",
        "loss = smp.utils.losses.DiceLoss()\n",
        "metrics = [smp.utils.metrics.IoU(threshold=0.5)]\n",
        "optimizer = torch.optim.Adam([dict(params=model.parameters(), lr=0.0001)])\n",
        "DEVICE = 'cuda' if torch.cuda.is_available() else 'cpu'"
      ],
      "execution_count": 13,
      "outputs": [
        {
          "output_type": "stream",
          "text": [
            "Downloading: \"https://download.pytorch.org/models/resnet34-333f7ec4.pth\" to /root/.cache/torch/hub/checkpoints/resnet34-333f7ec4.pth\n"
          ],
          "name": "stderr"
        },
        {
          "output_type": "display_data",
          "data": {
            "application/vnd.jupyter.widget-view+json": {
              "model_id": "52e94574f381428ea9e900fed2f3f4a5",
              "version_minor": 0,
              "version_major": 2
            },
            "text/plain": [
              "HBox(children=(FloatProgress(value=0.0, max=87306240.0), HTML(value='')))"
            ]
          },
          "metadata": {
            "tags": []
          }
        },
        {
          "output_type": "stream",
          "text": [
            "\n"
          ],
          "name": "stdout"
        }
      ]
    },
    {
      "cell_type": "code",
      "metadata": {
        "id": "0wsUIXM2jf3c"
      },
      "source": [
        "train_epoch = smp.utils.train.TrainEpoch(\n",
        "    model, \n",
        "    loss=loss, \n",
        "    metrics=metrics, \n",
        "    optimizer=optimizer,\n",
        "    device=DEVICE,\n",
        "    verbose=True,\n",
        ")\n",
        "\n",
        "valid_epoch = smp.utils.train.ValidEpoch(\n",
        "    model, \n",
        "    loss=loss, \n",
        "    metrics=metrics, \n",
        "    device=DEVICE,\n",
        "    verbose=True,\n",
        ")"
      ],
      "execution_count": 9,
      "outputs": []
    },
    {
      "cell_type": "code",
      "metadata": {
        "id": "L9uXkXcWjf3h",
        "outputId": "c4fb8af2-6954-4501-c60e-d5708874600f",
        "colab": {
          "base_uri": "https://localhost:8080/",
          "height": 3001
        }
      },
      "source": [
        "max_score = 0\n",
        "\n",
        "for i in range(0, 40):\n",
        "    \n",
        "    print('\\nEpoch: {}'.format(i))\n",
        "    train_logs = train_epoch.run(train_loader)\n",
        "    valid_logs = valid_epoch.run(valid_loader)\n",
        "    \n",
        "    #do something (save model, change lr, etc.)\n",
        "    if max_score < valid_logs['iou_score']:\n",
        "        max_score = valid_logs['iou_score']\n",
        "        torch.save(model.state_dict(), './best_model.pth')\n",
        "        print('Model saved!')\n",
        "        \n",
        "    if i == 25:\n",
        "        optimizer.param_groups[0]['lr'] = 1e-5\n",
        "        print('Decrease decoder learning rate to 1e-5!')\n"
      ],
      "execution_count": 10,
      "outputs": [
        {
          "output_type": "stream",
          "text": [
            "\n",
            "Epoch: 0\n",
            "\rtrain:   0%|          | 0/102 [00:00<?, ?it/s]"
          ],
          "name": "stdout"
        },
        {
          "output_type": "stream",
          "text": [
            "/usr/local/lib/python3.6/dist-packages/torchvision/transforms/functional.py:74: UserWarning: The given NumPy array is not writeable, and PyTorch does not support non-writeable tensors. This means you can write to the underlying (supposedly non-writeable) NumPy array using the tensor. You may want to copy the array to protect its data or make it writeable before converting it to a tensor. This type of warning will be suppressed for the rest of this program. (Triggered internally at  /pytorch/torch/csrc/utils/tensor_numpy.cpp:141.)\n",
            "  img = torch.from_numpy(np.array(pic, np.float32, copy=False))\n",
            "/usr/local/lib/python3.6/dist-packages/segmentation_models_pytorch/base/modules.py:102: UserWarning: Implicit dimension choice for softmax has been deprecated. Change the call to include dim=X as an argument.\n",
            "  return self.activation(x)\n"
          ],
          "name": "stderr"
        },
        {
          "output_type": "stream",
          "text": [
            "train: 100%|██████████| 102/102 [00:18<00:00,  5.58it/s, dice_loss - 0.5049, iou_score - 0.4666]\n",
            "valid: 100%|██████████| 18/18 [00:02<00:00,  7.98it/s, dice_loss - 0.3128, iou_score - 0.7205]\n",
            "Model saved!\n",
            "\n",
            "Epoch: 1\n",
            "train: 100%|██████████| 102/102 [00:18<00:00,  5.47it/s, dice_loss - 0.2351, iou_score - 0.801]\n",
            "valid: 100%|██████████| 18/18 [00:02<00:00,  7.83it/s, dice_loss - 0.193, iou_score - 0.8224]\n",
            "Model saved!\n",
            "\n",
            "Epoch: 2\n",
            "train: 100%|██████████| 102/102 [00:18<00:00,  5.49it/s, dice_loss - 0.1547, iou_score - 0.84]\n",
            "valid: 100%|██████████| 18/18 [00:02<00:00,  7.81it/s, dice_loss - 0.1239, iou_score - 0.8846]\n",
            "Model saved!\n",
            "\n",
            "Epoch: 3\n",
            "train: 100%|██████████| 102/102 [00:18<00:00,  5.48it/s, dice_loss - 0.1012, iou_score - 0.8963]\n",
            "valid: 100%|██████████| 18/18 [00:02<00:00,  8.02it/s, dice_loss - 0.08689, iou_score - 0.9025]\n",
            "Model saved!\n",
            "\n",
            "Epoch: 4\n",
            "train: 100%|██████████| 102/102 [00:18<00:00,  5.47it/s, dice_loss - 0.08044, iou_score - 0.902]\n",
            "valid: 100%|██████████| 18/18 [00:02<00:00,  7.76it/s, dice_loss - 0.07447, iou_score - 0.9028]\n",
            "Model saved!\n",
            "\n",
            "Epoch: 5\n",
            "train: 100%|██████████| 102/102 [00:19<00:00,  5.30it/s, dice_loss - 0.07117, iou_score - 0.9039]\n",
            "valid: 100%|██████████| 18/18 [00:02<00:00,  7.44it/s, dice_loss - 0.06786, iou_score - 0.9048]\n",
            "Model saved!\n",
            "\n",
            "Epoch: 6\n",
            "train: 100%|██████████| 102/102 [00:18<00:00,  5.41it/s, dice_loss - 0.06589, iou_score - 0.9051]\n",
            "valid: 100%|██████████| 18/18 [00:02<00:00,  7.83it/s, dice_loss - 0.06383, iou_score - 0.9043]\n",
            "\n",
            "Epoch: 7\n",
            "train: 100%|██████████| 102/102 [00:18<00:00,  5.44it/s, dice_loss - 0.06253, iou_score - 0.9058]\n",
            "valid: 100%|██████████| 18/18 [00:02<00:00,  7.76it/s, dice_loss - 0.06157, iou_score - 0.9058]\n",
            "Model saved!\n",
            "\n",
            "Epoch: 8\n",
            "train: 100%|██████████| 102/102 [00:18<00:00,  5.41it/s, dice_loss - 0.06006, iou_score - 0.9064]\n",
            "valid: 100%|██████████| 18/18 [00:02<00:00,  7.78it/s, dice_loss - 0.05945, iou_score - 0.9055]\n",
            "\n",
            "Epoch: 9\n",
            "train: 100%|██████████| 102/102 [00:18<00:00,  5.44it/s, dice_loss - 0.05789, iou_score - 0.908]\n",
            "valid: 100%|██████████| 18/18 [00:02<00:00,  7.65it/s, dice_loss - 0.05659, iou_score - 0.9092]\n",
            "Model saved!\n",
            "\n",
            "Epoch: 10\n",
            "train: 100%|██████████| 102/102 [00:18<00:00,  5.37it/s, dice_loss - 0.05541, iou_score - 0.9099]\n",
            "valid: 100%|██████████| 18/18 [00:02<00:00,  7.79it/s, dice_loss - 0.05457, iou_score - 0.9097]\n",
            "Model saved!\n",
            "\n",
            "Epoch: 11\n",
            "train: 100%|██████████| 102/102 [00:18<00:00,  5.42it/s, dice_loss - 0.054, iou_score - 0.9096]\n",
            "valid: 100%|██████████| 18/18 [00:02<00:00,  7.75it/s, dice_loss - 0.05356, iou_score - 0.9094]\n",
            "\n",
            "Epoch: 12\n",
            "train: 100%|██████████| 102/102 [00:18<00:00,  5.44it/s, dice_loss - 0.05356, iou_score - 0.9086]\n",
            "valid: 100%|██████████| 18/18 [00:02<00:00,  7.73it/s, dice_loss - 0.05322, iou_score - 0.9084]\n",
            "\n",
            "Epoch: 13\n",
            "train: 100%|██████████| 102/102 [00:19<00:00,  5.37it/s, dice_loss - 0.05282, iou_score - 0.9086]\n",
            "valid: 100%|██████████| 18/18 [00:02<00:00,  7.81it/s, dice_loss - 0.05192, iou_score - 0.9089]\n",
            "\n",
            "Epoch: 14\n",
            "train: 100%|██████████| 102/102 [00:18<00:00,  5.46it/s, dice_loss - 0.05154, iou_score - 0.9094]\n",
            "valid: 100%|██████████| 18/18 [00:02<00:00,  7.89it/s, dice_loss - 0.05126, iou_score - 0.9091]\n",
            "\n",
            "Epoch: 15\n",
            "train: 100%|██████████| 102/102 [00:18<00:00,  5.45it/s, dice_loss - 0.05113, iou_score - 0.9093]\n",
            "valid: 100%|██████████| 18/18 [00:02<00:00,  7.48it/s, dice_loss - 0.05103, iou_score - 0.9091]\n",
            "\n",
            "Epoch: 16\n",
            "train: 100%|██████████| 102/102 [00:19<00:00,  5.32it/s, dice_loss - 0.051, iou_score - 0.9089]\n",
            "valid: 100%|██████████| 18/18 [00:02<00:00,  7.68it/s, dice_loss - 0.05061, iou_score - 0.9089]\n",
            "\n",
            "Epoch: 17\n",
            "train: 100%|██████████| 102/102 [00:18<00:00,  5.41it/s, dice_loss - 0.05042, iou_score - 0.9092]\n",
            "valid: 100%|██████████| 18/18 [00:02<00:00,  7.69it/s, dice_loss - 0.05034, iou_score - 0.9092]\n",
            "\n",
            "Epoch: 18\n",
            "train: 100%|██████████| 102/102 [00:18<00:00,  5.39it/s, dice_loss - 0.05004, iou_score - 0.9094]\n",
            "valid: 100%|██████████| 18/18 [00:02<00:00,  7.90it/s, dice_loss - 0.05002, iou_score - 0.909]\n",
            "\n",
            "Epoch: 19\n",
            "train: 100%|██████████| 102/102 [00:18<00:00,  5.45it/s, dice_loss - 0.04981, iou_score - 0.9093]\n",
            "valid: 100%|██████████| 18/18 [00:02<00:00,  7.75it/s, dice_loss - 0.04981, iou_score - 0.909]\n",
            "\n",
            "Epoch: 20\n",
            "train: 100%|██████████| 102/102 [00:19<00:00,  5.28it/s, dice_loss - 0.04963, iou_score - 0.9093]\n",
            "valid: 100%|██████████| 18/18 [00:02<00:00,  7.90it/s, dice_loss - 0.04968, iou_score - 0.9089]\n",
            "\n",
            "Epoch: 21\n",
            "train: 100%|██████████| 102/102 [00:18<00:00,  5.43it/s, dice_loss - 0.04951, iou_score - 0.9092]\n",
            "valid: 100%|██████████| 18/18 [00:02<00:00,  7.80it/s, dice_loss - 0.04956, iou_score - 0.9088]\n",
            "\n",
            "Epoch: 22\n",
            "train: 100%|██████████| 102/102 [00:18<00:00,  5.41it/s, dice_loss - 0.04942, iou_score - 0.9091]\n",
            "valid: 100%|██████████| 18/18 [00:02<00:00,  7.70it/s, dice_loss - 0.04942, iou_score - 0.9089]\n",
            "\n",
            "Epoch: 23\n",
            "train: 100%|██████████| 102/102 [00:18<00:00,  5.42it/s, dice_loss - 0.04926, iou_score - 0.9091]\n",
            "valid: 100%|██████████| 18/18 [00:02<00:00,  7.66it/s, dice_loss - 0.04936, iou_score - 0.9088]\n",
            "\n",
            "Epoch: 24\n",
            "train: 100%|██████████| 102/102 [00:19<00:00,  5.34it/s, dice_loss - 0.04925, iou_score - 0.9089]\n",
            "valid: 100%|██████████| 18/18 [00:02<00:00,  7.80it/s, dice_loss - 0.04932, iou_score - 0.9088]\n",
            "\n",
            "Epoch: 25\n",
            "train: 100%|██████████| 102/102 [00:18<00:00,  5.43it/s, dice_loss - 0.0492, iou_score - 0.9089]\n",
            "valid: 100%|██████████| 18/18 [00:02<00:00,  7.72it/s, dice_loss - 0.04934, iou_score - 0.9086]\n",
            "Decrease decoder learning rate to 1e-5!\n",
            "\n",
            "Epoch: 26\n",
            "train: 100%|██████████| 102/102 [00:18<00:00,  5.41it/s, dice_loss - 0.04906, iou_score - 0.909]\n",
            "valid: 100%|██████████| 18/18 [00:02<00:00,  7.78it/s, dice_loss - 0.04911, iou_score - 0.9087]\n",
            "\n",
            "Epoch: 27\n",
            "train: 100%|██████████| 102/102 [00:19<00:00,  5.30it/s, dice_loss - 0.04908, iou_score - 0.9089]\n",
            "valid: 100%|██████████| 18/18 [00:02<00:00,  7.61it/s, dice_loss - 0.0491, iou_score - 0.9087]\n",
            "\n",
            "Epoch: 28\n",
            "train: 100%|██████████| 102/102 [00:19<00:00,  5.35it/s, dice_loss - 0.04901, iou_score - 0.909]\n",
            "valid: 100%|██████████| 18/18 [00:02<00:00,  7.76it/s, dice_loss - 0.04911, iou_score - 0.9089]\n",
            "\n",
            "Epoch: 29\n",
            "train: 100%|██████████| 102/102 [00:18<00:00,  5.41it/s, dice_loss - 0.04897, iou_score - 0.909]\n",
            "valid: 100%|██████████| 18/18 [00:02<00:00,  7.73it/s, dice_loss - 0.04906, iou_score - 0.9088]\n",
            "\n",
            "Epoch: 30\n",
            "train: 100%|██████████| 102/102 [00:18<00:00,  5.40it/s, dice_loss - 0.04896, iou_score - 0.909]\n",
            "valid: 100%|██████████| 18/18 [00:02<00:00,  7.85it/s, dice_loss - 0.04906, iou_score - 0.9088]\n",
            "\n",
            "Epoch: 31\n",
            "train: 100%|██████████| 102/102 [00:19<00:00,  5.33it/s, dice_loss - 0.04894, iou_score - 0.9091]\n",
            "valid: 100%|██████████| 18/18 [00:02<00:00,  7.59it/s, dice_loss - 0.04903, iou_score - 0.9088]\n",
            "\n",
            "Epoch: 32\n",
            "train: 100%|██████████| 102/102 [00:19<00:00,  5.36it/s, dice_loss - 0.04897, iou_score - 0.909]\n",
            "valid: 100%|██████████| 18/18 [00:02<00:00,  7.48it/s, dice_loss - 0.04905, iou_score - 0.9089]\n",
            "\n",
            "Epoch: 33\n",
            "train: 100%|██████████| 102/102 [00:19<00:00,  5.36it/s, dice_loss - 0.04891, iou_score - 0.909]\n",
            "valid: 100%|██████████| 18/18 [00:02<00:00,  7.79it/s, dice_loss - 0.04901, iou_score - 0.9088]\n",
            "\n",
            "Epoch: 34\n",
            "train: 100%|██████████| 102/102 [00:18<00:00,  5.40it/s, dice_loss - 0.04894, iou_score - 0.909]\n",
            "valid: 100%|██████████| 18/18 [00:02<00:00,  7.40it/s, dice_loss - 0.049, iou_score - 0.9088]\n",
            "\n",
            "Epoch: 35\n",
            "train: 100%|██████████| 102/102 [00:19<00:00,  5.14it/s, dice_loss - 0.04895, iou_score - 0.909]\n",
            "valid: 100%|██████████| 18/18 [00:02<00:00,  7.81it/s, dice_loss - 0.04901, iou_score - 0.9089]\n",
            "\n",
            "Epoch: 36\n",
            "train: 100%|██████████| 102/102 [00:18<00:00,  5.44it/s, dice_loss - 0.04888, iou_score - 0.909]\n",
            "valid: 100%|██████████| 18/18 [00:02<00:00,  7.76it/s, dice_loss - 0.049, iou_score - 0.9088]\n",
            "\n",
            "Epoch: 37\n",
            "train: 100%|██████████| 102/102 [00:18<00:00,  5.38it/s, dice_loss - 0.04895, iou_score - 0.9089]\n",
            "valid: 100%|██████████| 18/18 [00:02<00:00,  7.72it/s, dice_loss - 0.049, iou_score - 0.9088]\n",
            "\n",
            "Epoch: 38\n",
            "train: 100%|██████████| 102/102 [00:19<00:00,  5.34it/s, dice_loss - 0.04892, iou_score - 0.9089]\n",
            "valid: 100%|██████████| 18/18 [00:02<00:00,  7.57it/s, dice_loss - 0.04898, iou_score - 0.9088]\n",
            "\n",
            "Epoch: 39\n",
            "train: 100%|██████████| 102/102 [00:18<00:00,  5.37it/s, dice_loss - 0.04892, iou_score - 0.9089]\n",
            "valid: 100%|██████████| 18/18 [00:02<00:00,  7.72it/s, dice_loss - 0.04896, iou_score - 0.9088]\n"
          ],
          "name": "stdout"
        }
      ]
    },
    {
      "cell_type": "code",
      "metadata": {
        "id": "er5vPehyjf3n"
      },
      "source": [
        "tr_img, tr_lbl = train_dataset[0]\n",
        "ts_img, ts_lbl = test_dataset[45]"
      ],
      "execution_count": 62,
      "outputs": []
    },
    {
      "cell_type": "code",
      "metadata": {
        "id": "D3v6424w0pY6",
        "outputId": "ea77607b-27ae-4e54-d0f8-75cb5721e02b",
        "colab": {
          "base_uri": "https://localhost:8080/",
          "height": 71
        }
      },
      "source": [
        "model.eval()\n",
        "with torch.no_grad():\n",
        "  outimg_tr = model(tr_img[None].cuda()).squeeze()\n",
        "  outimg_ts = model(ts_img[None].cuda()).squeeze()"
      ],
      "execution_count": 63,
      "outputs": [
        {
          "output_type": "stream",
          "text": [
            "/usr/local/lib/python3.6/dist-packages/segmentation_models_pytorch/base/modules.py:102: UserWarning: Implicit dimension choice for softmax has been deprecated. Change the call to include dim=X as an argument.\n",
            "  return self.activation(x)\n"
          ],
          "name": "stderr"
        }
      ]
    },
    {
      "cell_type": "code",
      "metadata": {
        "id": "mTKpdYwC1O9d"
      },
      "source": [
        "def visualize(outimg_tr, tr_lbl, outimg_ts, ts_lbl):\n",
        "  for cls in range(6):\n",
        "      plt.figure(figsize=(10,12))\n",
        "      plt.subplot(1,4,1)\n",
        "      plt.imshow(tr_lbl.numpy()[cls,...])\n",
        "      plt.title('train label')\n",
        "      plt.subplot(1,4,2)\n",
        "      plt.imshow(outimg_tr.cpu().numpy()[cls,...])\n",
        "      plt.title('train lebel predict')\n",
        "\n",
        "      plt.subplot(1,4,3)\n",
        "      plt.imshow(ts_lbl.numpy()[cls,...])\n",
        "      plt.title('test label')\n",
        "      plt.subplot(1,4,4)\n",
        "      plt.imshow(outimg_ts.cpu().numpy()[cls,...])\n",
        "      plt.title('test lebel predict')\n",
        "      plt.tight_layout()\n",
        "      plt.show()"
      ],
      "execution_count": 17,
      "outputs": []
    },
    {
      "cell_type": "code",
      "metadata": {
        "id": "hHLm7JBUDebg"
      },
      "source": [
        "outimg_tr = outimg_tr.cpu().numpy()"
      ],
      "execution_count": 65,
      "outputs": []
    },
    {
      "cell_type": "code",
      "metadata": {
        "id": "y0GeJPiAFdMh",
        "outputId": "06e7b072-e06f-4e9e-8212-0bec4a53e77b",
        "colab": {
          "base_uri": "https://localhost:8080/",
          "height": 34
        }
      },
      "source": [
        "outimg_tr.shape"
      ],
      "execution_count": 66,
      "outputs": [
        {
          "output_type": "execute_result",
          "data": {
            "text/plain": [
              "(6, 224, 224)"
            ]
          },
          "metadata": {
            "tags": []
          },
          "execution_count": 66
        }
      ]
    },
    {
      "cell_type": "code",
      "metadata": {
        "id": "3HjxZs2kEkFw",
        "outputId": "6c20feb9-fdb3-4691-aecf-4221bf7f3cf2",
        "colab": {
          "base_uri": "https://localhost:8080/",
          "height": 221
        }
      },
      "source": [
        "[i[i>0.5] for i in outimg_tr]"
      ],
      "execution_count": 70,
      "outputs": [
        {
          "output_type": "execute_result",
          "data": {
            "text/plain": [
              "[array([0.7927224 , 0.83856976, 0.7130248 , ..., 0.9984818 , 0.9923977 ,\n",
              "        0.9327075 ], dtype=float32),\n",
              " array([0.90414095, 0.961095  , 0.94101465, ..., 0.99734914, 0.96560585,\n",
              "        0.64060473], dtype=float32),\n",
              " array([0.59858954, 0.70954967, 0.7781347 , ..., 0.7968842 , 0.6676168 ,\n",
              "        0.5075933 ], dtype=float32),\n",
              " array([0.92705745, 0.9898315 , 0.9960716 , ..., 0.97579634, 0.9402593 ,\n",
              "        0.5699686 ], dtype=float32),\n",
              " array([0.6737949 , 0.77077967, 0.79421955, ..., 0.66128194, 0.5932128 ,\n",
              "        0.52139467], dtype=float32),\n",
              " array([0.89330524, 0.9566978 , 0.82186365, ..., 0.98637265, 0.99315965,\n",
              "        0.9673172 ], dtype=float32)]"
            ]
          },
          "metadata": {
            "tags": []
          },
          "execution_count": 70
        }
      ]
    },
    {
      "cell_type": "code",
      "metadata": {
        "id": "kD_du7HeE3K0",
        "outputId": "bab3066c-d2d4-4aad-abd7-3550e2331061",
        "colab": {
          "base_uri": "https://localhost:8080/",
          "height": 34
        }
      },
      "source": [
        "for i in outimg_tr:\n",
        "  print(i.shape);break"
      ],
      "execution_count": 68,
      "outputs": [
        {
          "output_type": "stream",
          "text": [
            "(224, 224)\n"
          ],
          "name": "stdout"
        }
      ]
    },
    {
      "cell_type": "code",
      "metadata": {
        "id": "J-BqWM6oFpvo",
        "outputId": "4ab7411e-c400-469a-b455-0aa703f1d76f",
        "colab": {
          "base_uri": "https://localhost:8080/",
          "height": 34
        }
      },
      "source": [
        "model.load_state_dict(torch.load('./best_model.pth'))"
      ],
      "execution_count": 14,
      "outputs": [
        {
          "output_type": "execute_result",
          "data": {
            "text/plain": [
              "<All keys matched successfully>"
            ]
          },
          "metadata": {
            "tags": []
          },
          "execution_count": 14
        }
      ]
    },
    {
      "cell_type": "code",
      "metadata": {
        "id": "a-kcTxshYvkZ",
        "outputId": "b0259a5c-8bd7-4443-82a4-923e8a51680b",
        "colab": {
          "base_uri": "https://localhost:8080/",
          "height": 71
        }
      },
      "source": [
        "tr_img, tr_lbl = train_dataset[0]\n",
        "ts_img, ts_lbl = test_dataset[4]\n",
        "\n",
        "model.eval()\n",
        "with torch.no_grad():\n",
        "  outimg_tr = model(tr_img[None]).squeeze()\n",
        "  outimg_ts = model(ts_img[None]).squeeze()"
      ],
      "execution_count": 24,
      "outputs": [
        {
          "output_type": "stream",
          "text": [
            "/usr/local/lib/python3.6/dist-packages/segmentation_models_pytorch/base/modules.py:102: UserWarning: Implicit dimension choice for softmax has been deprecated. Change the call to include dim=X as an argument.\n",
            "  return self.activation(x)\n"
          ],
          "name": "stderr"
        }
      ]
    },
    {
      "cell_type": "code",
      "metadata": {
        "id": "oxBOSq3GZQsJ",
        "outputId": "26166aeb-f2c6-475e-c020-7f7a11945f82",
        "colab": {
          "base_uri": "https://localhost:8080/",
          "height": 1000
        }
      },
      "source": [
        "visualize(outimg_tr, tr_lbl, outimg_ts, ts_lbl)"
      ],
      "execution_count": 18,
      "outputs": [
        {
          "output_type": "display_data",
          "data": {
            "image/png": "[encoded data removed]",
            "text/plain": [
              "<Figure size 720x864 with 4 Axes>"
            ]
          },
          "metadata": {
            "tags": [],
            "needs_background": "light"
          }
        },
        {
          "output_type": "display_data",
          "data": {
            "image/png": "[encoded data removed]",
            "text/plain": [
              "<Figure size 720x864 with 4 Axes>"
            ]
          },
          "metadata": {
            "tags": [],
            "needs_background": "light"
          }
        },
        {
          "output_type": "display_data",
          "data": {
            "image/png": "[encoded data removed]",
            "text/plain": [
              "<Figure size 720x864 with 4 Axes>"
            ]
          },
          "metadata": {
            "tags": [],
            "needs_background": "light"
          }
        },
        {
          "output_type": "display_data",
          "data": {
            "image/png": "[encoded data removed]",
            "text/plain": [
              "<Figure size 720x864 with 4 Axes>"
            ]
          },
          "metadata": {
            "tags": [],
            "needs_background": "light"
          }
        },
        {
          "output_type": "display_data",
          "data": {
            "image/png": "[encoded data removed]",
            "text/plain": [
              "<Figure size 720x864 with 4 Axes>"
            ]
          },
          "metadata": {
            "tags": [],
            "needs_background": "light"
          }
        },
        {
          "output_type": "display_data",
          "data": {
            "image/png": "[encoded data removed]",
            "text/plain": [
              "<Figure size 720x864 with 4 Axes>"
            ]
          },
          "metadata": {
            "tags": [],
            "needs_background": "light"
          }
        }
      ]
    },
    {
      "cell_type": "code",
      "metadata": {
        "id": "UEED5Kt4Zquf"
      },
      "source": [
        "out = np.empty_like(outimg_ts.numpy())\n",
        "for cls, mask in enumerate(outimg_tr.numpy()):\n",
        "    mask = np.where(mask > 0.5, 1, 0)\n",
        "    out[cls,:,:] = (mask * (cls + 1))\n",
        "    # break"
      ],
      "execution_count": 67,
      "outputs": []
    },
    {
      "cell_type": "code",
      "metadata": {
        "id": "cjnELo2hb84r",
        "outputId": "ecb31a86-d9b1-41f7-d7e8-e828a3d7a82f",
        "colab": {
          "base_uri": "https://localhost:8080/",
          "height": 286
        }
      },
      "source": [
        "plt.imshow(out[5,...])"
      ],
      "execution_count": 68,
      "outputs": [
        {
          "output_type": "execute_result",
          "data": {
            "text/plain": [
              "<matplotlib.image.AxesImage at 0x7f4dff884dd8>"
            ]
          },
          "metadata": {
            "tags": []
          },
          "execution_count": 68
        },
        {
          "output_type": "display_data",
          "data": {
            "image/png": "[encoded data removed]",
            "text/plain": [
              "<Figure size 432x288 with 1 Axes>"
            ]
          },
          "metadata": {
            "tags": [],
            "needs_background": "light"
          }
        }
      ]
    },
    {
      "cell_type": "code",
      "metadata": {
        "id": "WvdCdzN9sy-z",
        "outputId": "a93ba7c9-6849-4b37-fe91-8ab6c037e41b",
        "colab": {
          "base_uri": "https://localhost:8080/",
          "height": 286
        }
      },
      "source": [
        "plt.imshow(np.sum(out, axis=0))"
      ],
      "execution_count": 70,
      "outputs": [
        {
          "output_type": "execute_result",
          "data": {
            "text/plain": [
              "<matplotlib.image.AxesImage at 0x7f4dffa90da0>"
            ]
          },
          "metadata": {
            "tags": []
          },
          "execution_count": 70
        },
        {
          "output_type": "display_data",
          "data": {
            "image/png": "[encoded data removed]",
            "text/plain": [
              "<Figure size 432x288 with 1 Axes>"
            ]
          },
          "metadata": {
            "tags": [],
            "needs_background": "light"
          }
        }
      ]
    }
  ]
}