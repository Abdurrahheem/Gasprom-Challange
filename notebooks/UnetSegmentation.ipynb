{
 "cells": [
  {
   "cell_type": "code",
   "execution_count": 281,
   "metadata": {},
   "outputs": [],
   "source": [
    "import torch\n",
    "import torch.nn as nn\n",
    "import torchvision.transforms as transforms\n",
    "import torchvision.models as models\n",
    "import segmentation_models_pytorch as smp\n",
    "import matplotlib.pyplot as plt \n",
    "import albumentations as albu\n",
    "\n",
    "from torch.utils.data import DataLoader, Dataset as BaseDataset\n",
    "from pathlib import Path"
   ]
  },
  {
   "cell_type": "code",
   "execution_count": 196,
   "metadata": {},
   "outputs": [],
   "source": [
    "np.random.seed(0)\n",
    "\n",
    "# load the data\n",
    "datapath = Path.cwd().parent / 'data'\n",
    "data_train = np.load(datapath/'data_train.npz', allow_pickle=True, mmap_mode='r')\n",
    "data_train = data_train['data']\n",
    "\n",
    "labels_train = np.load(datapath/'labels_train.npz', allow_pickle=True, mmap_mode='r')\n",
    "labels_train = labels_train['labels']\n",
    "\n",
    "\n",
    "# seperate data into train and test sets\n",
    "test_idx = np.random.randint(low=0, high=data_train.shape[-1], size=int(data_train.shape[-1] * .15))\n",
    "train_idx = list(set(range(data_train.shape[-1])) - set(test_idx))\n",
    "\n",
    "data_test = data_train[...,test_idx]\n",
    "data_train = data_train[...,train_idx]\n",
    "\n",
    "labels_test = labels_train[...,test_idx]\n",
    "labels_train = labels_train[...,train_idx]"
   ]
  },
  {
   "cell_type": "code",
   "execution_count": 261,
   "metadata": {},
   "outputs": [],
   "source": [
    "model = smp.Unet(in_channels=1, classes=6, activation='softmax')"
   ]
  },
  {
   "cell_type": "code",
   "execution_count": 304,
   "metadata": {},
   "outputs": [],
   "source": [
    "def transformations(image, mask):\n",
    "  image_trans = transforms.Compose([transforms.ToPILImage(),\n",
    "                                    transforms.Resize((224,224)),\n",
    "#                                     transforms.Resize((1024,800)),\n",
    "                                    transforms.ToTensor()])\n",
    " \n",
    "  return image_trans(image), image_trans(mask)"
   ]
  },
  {
   "cell_type": "code",
   "execution_count": 296,
   "metadata": {},
   "outputs": [],
   "source": [
    "def get_training_augmentation():\n",
    "    train_transform = [\n",
    "                        albu.Resize(1024,800),\n",
    "#                        albu.Resize(224,224),\n",
    "#                        albu.HorizontalFlip(p=1)\n",
    "                       albu.pytorch.transforms.ToTensor()\n",
    "                      ]\n",
    "    return albu.Compose(train_transform)\n"
   ]
  },
  {
   "cell_type": "code",
   "execution_count": 212,
   "metadata": {},
   "outputs": [
    {
     "data": {
      "text/plain": [
       "torch.Size([1, 1024, 800])"
      ]
     },
     "execution_count": 212,
     "metadata": {},
     "output_type": "execute_result"
    }
   ],
   "source": [
    "img, label = data_train[:,:,1], labels_train[:,:,1]\n",
    "input, mask= transformations(img, label.astype(np.float32))\n",
    "input.shape"
   ]
  },
  {
   "cell_type": "code",
   "execution_count": 213,
   "metadata": {},
   "outputs": [
    {
     "name": "stdout",
     "output_type": "stream",
     "text": [
      "torch.Size([1, 6, 1024, 800])\n"
     ]
    }
   ],
   "source": [
    "with torch.no_grad():\n",
    "  print(model(input[None]).shape)"
   ]
  },
  {
   "cell_type": "code",
   "execution_count": 37,
   "metadata": {},
   "outputs": [],
   "source": [
    "# plt.subplot(1,2,1)\n",
    "# plt.imshow(transformations(test=True)(label.astype(np.float32)).squeeze().numpy())\n",
    "# plt.subplot(1,2,2)\n",
    "# plt.imshow(label)"
   ]
  },
  {
   "cell_type": "code",
   "execution_count": 297,
   "metadata": {},
   "outputs": [],
   "source": [
    "class Dataset(BaseDataset):\n",
    "    \n",
    "    def __init__(\n",
    "            self, \n",
    "            data, \n",
    "            masks, \n",
    "            augmentation=None, \n",
    "            preprocessing=None,\n",
    "    ):\n",
    "        self.data = data\n",
    "        self.masks = masks\n",
    "        \n",
    "        # get the class values\n",
    "        self.class_values = list(range(6))\n",
    "        \n",
    "        self.augmentation = augmentation\n",
    "        self.preprocessing = preprocessing\n",
    "    \n",
    "    def __getitem__(self, i):\n",
    "        \n",
    "        # read data\n",
    "        image = self.data[:,:,i]\n",
    "        mask = self.masks[:,:,i] - 1 # to shift class labes from 1, 2, ... 6 to 0, 1, ... 5\n",
    "\n",
    "#         if self.augmentation:\n",
    "#             sample = self.augmentation(image=image, mask=mask)\n",
    "#             image, mask = sample['image'], sample['mask']\n",
    "            \n",
    "        if self.augmentation:\n",
    "            image, mask = self.augmentation(image=image, mask=mask.astype(np.float32))\n",
    "            \n",
    "            \n",
    "        # extract certain classes from mask (e.g. cars)\n",
    "        masks = [(mask == v) for v in self.class_values]\n",
    "#         mask = np.stack(masks, axis=-1)\n",
    "        mask = torch.cat(masks, axis=0)\n",
    "\n",
    "        return image, mask\n",
    "      \n",
    "    def __len__(self):\n",
    "        return self.data.shape[-1]\n"
   ]
  },
  {
   "cell_type": "code",
   "execution_count": 298,
   "metadata": {},
   "outputs": [],
   "source": [
    "trian_dataset = Dataset(data=data_train, masks=labels_train, augmentation=transformations)"
   ]
  },
  {
   "cell_type": "code",
   "execution_count": 265,
   "metadata": {},
   "outputs": [
    {
     "name": "stderr",
     "output_type": "stream",
     "text": [
      "C:\\Users\\Dell\\Anaconda3\\envs\\test\\lib\\site-packages\\segmentation_models_pytorch\\base\\modules.py:102: UserWarning: Implicit dimension choice for softmax has been deprecated. Change the call to include dim=X as an argument.\n",
      "  return self.activation(x)\n"
     ]
    }
   ],
   "source": [
    "output = model(trian_dataset[3][0][None])"
   ]
  },
  {
   "cell_type": "code",
   "execution_count": 260,
   "metadata": {},
   "outputs": [
    {
     "data": {
      "text/plain": [
       "<matplotlib.image.AxesImage at 0x208c5881cc8>"
      ]
     },
     "execution_count": 260,
     "metadata": {},
     "output_type": "execute_result"
    },
    {
     "data": {
      "image/png": "[encoded data removed]",
      "text/plain": [
       "<Figure size 432x288 with 2 Axes>"
      ]
     },
     "metadata": {
      "needs_background": "light"
     },
     "output_type": "display_data"
    }
   ],
   "source": [
    "plt.subplot(1,2,1)\n",
    "plt.imshow(trian_dataset[3][1][1,...])\n",
    "plt.subplot(1,2,2)\n",
    "plt.imshow(labels_train[...,0],)"
   ]
  },
  {
   "cell_type": "code",
   "execution_count": 262,
   "metadata": {},
   "outputs": [],
   "source": [
    "loss = smp.utils.losses.DiceLoss()\n",
    "metrics = [\n",
    "    smp.utils.metrics.IoU(threshold=0.5),\n",
    "]\n"
   ]
  },
  {
   "cell_type": "code",
   "execution_count": 275,
   "metadata": {},
   "outputs": [
    {
     "data": {
      "text/plain": [
       "tensor(0.8577, grad_fn=<RsubBackward1>)"
      ]
     },
     "execution_count": 275,
     "metadata": {},
     "output_type": "execute_result"
    }
   ],
   "source": [
    "loss(output,trian_dataset[3][1][None])"
   ]
  },
  {
   "cell_type": "code",
   "execution_count": 278,
   "metadata": {},
   "outputs": [],
   "source": [
    "optimizer = torch.optim.Adam([ \n",
    "    dict(params=model.parameters(), lr=0.0001),\n",
    "])\n",
    "\n",
    "DEVICE = 'cuda' if torch.cuda.is_available() else 'cpu'\n"
   ]
  },
  {
   "cell_type": "code",
   "execution_count": 279,
   "metadata": {},
   "outputs": [],
   "source": [
    "train_epoch = smp.utils.train.TrainEpoch(\n",
    "    model, \n",
    "    loss=loss, \n",
    "    metrics=metrics, \n",
    "    optimizer=optimizer,\n",
    "    device=DEVICE,\n",
    "    verbose=True,\n",
    ")\n"
   ]
  },
  {
   "cell_type": "code",
   "execution_count": 305,
   "metadata": {},
   "outputs": [],
   "source": [
    "train_dataset = Dataset(data=data_train, masks=labels_train, augmentation=transformations)\n",
    "train_loader = DataLoader(train_dataset, batch_size=10, shuffle=True,)"
   ]
  },
  {
   "cell_type": "code",
   "execution_count": null,
   "metadata": {},
   "outputs": [
    {
     "name": "stdout",
     "output_type": "stream",
     "text": [
      "\n",
      "Epoch: 0\n",
      "\r",
      "train:   0%|                                                                                    | 0/51 [00:00<?, ?it/s]"
     ]
    },
    {
     "name": "stderr",
     "output_type": "stream",
     "text": [
      "C:\\Users\\Dell\\Anaconda3\\envs\\test\\lib\\site-packages\\segmentation_models_pytorch\\base\\modules.py:102: UserWarning: Implicit dimension choice for softmax has been deprecated. Change the call to include dim=X as an argument.\n",
      "  return self.activation(x)\n"
     ]
    },
    {
     "name": "stdout",
     "output_type": "stream",
     "text": [
      "train:  31%|██████████▉                        | 16/51 [01:28<02:25,  4.15s/it, dice_loss - 0.7622, iou_score - 0.1489]"
     ]
    }
   ],
   "source": [
    "max_score = 0\n",
    "\n",
    "for i in range(0, 2):\n",
    "    \n",
    "    print('\\nEpoch: {}'.format(i))\n",
    "    train_logs = train_epoch.run(train_loader)\n",
    "#     valid_logs = valid_epoch.run(valid_loader)\n",
    "    \n",
    "    # do something (save model, change lr, etc.)\n",
    "#     if max_score < valid_logs['iou_score']:\n",
    "#         max_score = valid_logs['iou_score']\n",
    "#         torch.save(model, './best_model.pth')\n",
    "#         print('Model saved!')\n",
    "        \n",
    "#     if i == 25:\n",
    "#         optimizer.param_groups[0]['lr'] = 1e-5\n",
    "#         print('Decrease decoder learning rate to 1e-5!')\n"
   ]
  },
  {
   "cell_type": "code",
   "execution_count": null,
   "metadata": {},
   "outputs": [],
   "source": []
  }
 ],
 "metadata": {
  "kernelspec": {
   "display_name": "Python 3",
   "language": "python",
   "name": "python3"
  },
  "varInspector": {
   "cols": {
    "lenName": 16,
    "lenType": 16,
    "lenVar": 40
   },
   "kernels_config": {
    "python": {
     "delete_cmd_postfix": "",
     "delete_cmd_prefix": "del ",
     "library": "var_list.py",
     "varRefreshCmd": "print(var_dic_list())"
    },
    "r": {
     "delete_cmd_postfix": ") ",
     "delete_cmd_prefix": "rm(",
     "library": "var_list.r",
     "varRefreshCmd": "cat(var_dic_list()) "
    }
   },
   "types_to_exclude": [
    "module",
    "function",
    "builtin_function_or_method",
    "instance",
    "_Feature"
   ],
   "window_display": false
  }
 },
 "nbformat": 4,
 "nbformat_minor": 4
}
